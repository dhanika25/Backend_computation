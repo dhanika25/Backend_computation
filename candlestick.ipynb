{
 "cells": [
  {
   "cell_type": "code",
   "execution_count": 1,
   "metadata": {},
   "outputs": [
    {
     "name": "stderr",
     "output_type": "stream",
     "text": [
      "c:\\Users\\Dhanika Dewan\\AppData\\Local\\Programs\\Python\\Python312\\Lib\\site-packages\\tqdm\\auto.py:21: TqdmWarning: IProgress not found. Please update jupyter and ipywidgets. See https://ipywidgets.readthedocs.io/en/stable/user_install.html\n",
      "  from .autonotebook import tqdm as notebook_tqdm\n"
     ]
    },
    {
     "name": "stdout",
     "output_type": "stream",
     "text": [
      "False\n",
      "8442\n",
      "Start                     1991-01-02 00:00:00\n",
      "End                       2024-05-31 00:00:00\n",
      "Duration                  12203 days 00:00:00\n",
      "Exposure Time [%]                   40.227434\n",
      "Equity Final [$]                    46.910828\n",
      "Equity Peak [$]                  23899.506437\n",
      "Return [%]                         -99.530892\n",
      "Buy & Hold Return [%]             4129.598939\n",
      "Return (Ann.) [%]                  -14.790942\n",
      "Volatility (Ann.) [%]                33.69818\n",
      "Sharpe Ratio                              0.0\n",
      "Sortino Ratio                             0.0\n",
      "Calmar Ratio                              0.0\n",
      "Max. Drawdown [%]                  -99.803716\n",
      "Avg. Drawdown [%]                  -19.055716\n",
      "Max. Drawdown Duration    11260 days 00:00:00\n",
      "Avg. Drawdown Duration      867 days 00:00:00\n",
      "# Trades                                  164\n",
      "Win Rate [%]                        43.292683\n",
      "Best Trade [%]                      63.492056\n",
      "Worst Trade [%]                    -81.034491\n",
      "Avg. Trade [%]                      -3.420201\n",
      "Max. Trade Duration         392 days 00:00:00\n",
      "Avg. Trade Duration          29 days 00:00:00\n",
      "Profit Factor                        0.804112\n",
      "Expectancy [%]                      -1.287175\n",
      "SQN                                 -0.396538\n",
      "_strategy                            backtest\n",
      "_equity_curve                             ...\n",
      "_trades                        Size  Entry...\n",
      "dtype: object\n"
     ]
    },
    {
     "ename": "AttributeError",
     "evalue": "'NoneType' object has no attribute 'add_trace'",
     "output_type": "error",
     "traceback": [
      "\u001b[1;31m---------------------------------------------------------------------------\u001b[0m",
      "\u001b[1;31mAttributeError\u001b[0m                            Traceback (most recent call last)",
      "Cell \u001b[1;32mIn[1], line 21\u001b[0m\n\u001b[0;32m     18\u001b[0m \u001b[38;5;66;03m# Close the connection to the source database\u001b[39;00m\n\u001b[0;32m     19\u001b[0m source_conn\u001b[38;5;241m.\u001b[39mclose()\n\u001b[1;32m---> 21\u001b[0m result\u001b[38;5;241m=\u001b[39m \u001b[43mst\u001b[49m\u001b[38;5;241;43m.\u001b[39;49m\u001b[43mimplement_candlestick_strategy\u001b[49m\u001b[43m(\u001b[49m\u001b[43mdf\u001b[49m\u001b[43m,\u001b[49m\u001b[43mtoPlot\u001b[49m\u001b[38;5;241;43m=\u001b[39;49m\u001b[38;5;28;43;01mTrue\u001b[39;49;00m\u001b[43m)\u001b[49m\n\u001b[0;32m     23\u001b[0m \u001b[38;5;28mprint\u001b[39m({\n\u001b[0;32m     24\u001b[0m         \u001b[38;5;124m'\u001b[39m\u001b[38;5;124mWin Rate [\u001b[39m\u001b[38;5;124m%\u001b[39m\u001b[38;5;124m]\u001b[39m\u001b[38;5;124m'\u001b[39m: result[\u001b[38;5;124m'\u001b[39m\u001b[38;5;124mWin Rate [\u001b[39m\u001b[38;5;124m%\u001b[39m\u001b[38;5;124m]\u001b[39m\u001b[38;5;124m'\u001b[39m],\n\u001b[0;32m     25\u001b[0m         \u001b[38;5;124m'\u001b[39m\u001b[38;5;124mNet Profit/Loss [$]\u001b[39m\u001b[38;5;124m'\u001b[39m: result[\u001b[38;5;124m'\u001b[39m\u001b[38;5;124mNet Profit/Loss [$]\u001b[39m\u001b[38;5;124m'\u001b[39m],\n\u001b[0;32m     26\u001b[0m         \u001b[38;5;124m'\u001b[39m\u001b[38;5;124mTotal Trades\u001b[39m\u001b[38;5;124m'\u001b[39m: result[\u001b[38;5;124m'\u001b[39m\u001b[38;5;124mTotal Trades\u001b[39m\u001b[38;5;124m'\u001b[39m],\n\u001b[0;32m     27\u001b[0m         \u001b[38;5;124m'\u001b[39m\u001b[38;5;124mWinning Trades\u001b[39m\u001b[38;5;124m'\u001b[39m: result[\u001b[38;5;124m'\u001b[39m\u001b[38;5;124mWinning Trades\u001b[39m\u001b[38;5;124m'\u001b[39m]\n\u001b[0;32m     28\u001b[0m     })\n\u001b[0;32m     30\u001b[0m \u001b[38;5;66;03m# Check if the result contains the plotlyJson key\u001b[39;00m\n",
      "File \u001b[1;32mc:\\Users\\Dhanika Dewan\\Documents\\GitHub\\Backend_computation\\Backtesting\\Strategies.py:511\u001b[0m, in \u001b[0;36mimplement_candlestick_strategy\u001b[1;34m(df, toPlot, stop_loss_percentage)\u001b[0m\n\u001b[0;32m    508\u001b[0m pnl_res \u001b[38;5;241m=\u001b[39m sb_bt\u001b[38;5;241m.\u001b[39msimpleBacktest(df)\n\u001b[0;32m    510\u001b[0m \u001b[38;5;28;01mif\u001b[39;00m toPlot:\n\u001b[1;32m--> 511\u001b[0m     fig \u001b[38;5;241m=\u001b[39m \u001b[43mbtutil\u001b[49m\u001b[38;5;241;43m.\u001b[39;49m\u001b[43maddBuySell2Graph\u001b[49m\u001b[43m(\u001b[49m\u001b[43mdf\u001b[49m\u001b[43m,\u001b[49m\u001b[43m \u001b[49m\u001b[43mfig\u001b[49m\u001b[43m)\u001b[49m\n\u001b[0;32m    512\u001b[0m     pnl_res[\u001b[38;5;124m\"\u001b[39m\u001b[38;5;124mplotlyJson\u001b[39m\u001b[38;5;124m\"\u001b[39m] \u001b[38;5;241m=\u001b[39m pio\u001b[38;5;241m.\u001b[39mto_json(fig, pretty\u001b[38;5;241m=\u001b[39m\u001b[38;5;28;01mTrue\u001b[39;00m)\n\u001b[0;32m    514\u001b[0m \u001b[38;5;28;01mreturn\u001b[39;00m pnl_res\n",
      "File \u001b[1;32mc:\\Users\\Dhanika Dewan\\Documents\\GitHub\\Backend_computation\\Backtesting\\utils.py:19\u001b[0m, in \u001b[0;36maddBuySell2Graph\u001b[1;34m(df, fig)\u001b[0m\n\u001b[0;32m     17\u001b[0m buy_dates \u001b[38;5;241m=\u001b[39m df\u001b[38;5;241m.\u001b[39mloc[buy_indices, \u001b[38;5;124m'\u001b[39m\u001b[38;5;124mDate\u001b[39m\u001b[38;5;124m'\u001b[39m]\n\u001b[0;32m     18\u001b[0m buy_prices \u001b[38;5;241m=\u001b[39m df\u001b[38;5;241m.\u001b[39mloc[buy_indices, \u001b[38;5;124m'\u001b[39m\u001b[38;5;124mlow\u001b[39m\u001b[38;5;124m'\u001b[39m]  \u001b[38;5;66;03m# You can adjust the y-coordinate as needed\u001b[39;00m\n\u001b[1;32m---> 19\u001b[0m \u001b[43mfig\u001b[49m\u001b[38;5;241;43m.\u001b[39;49m\u001b[43madd_trace\u001b[49m(go\u001b[38;5;241m.\u001b[39mScatter(x\u001b[38;5;241m=\u001b[39mbuy_dates, y\u001b[38;5;241m=\u001b[39mbuy_prices, mode\u001b[38;5;241m=\u001b[39m\u001b[38;5;124m'\u001b[39m\u001b[38;5;124mmarkers\u001b[39m\u001b[38;5;124m'\u001b[39m, marker_symbol\u001b[38;5;241m=\u001b[39m\u001b[38;5;124m'\u001b[39m\u001b[38;5;124mtriangle-up\u001b[39m\u001b[38;5;124m'\u001b[39m, marker\u001b[38;5;241m=\u001b[39m\u001b[38;5;28mdict\u001b[39m(color\u001b[38;5;241m=\u001b[39m\u001b[38;5;124m'\u001b[39m\u001b[38;5;124mgreen\u001b[39m\u001b[38;5;124m'\u001b[39m, size\u001b[38;5;241m=\u001b[39m\u001b[38;5;241m10\u001b[39m), name\u001b[38;5;241m=\u001b[39m\u001b[38;5;124m'\u001b[39m\u001b[38;5;124mBuy Signal\u001b[39m\u001b[38;5;124m'\u001b[39m))\n\u001b[0;32m     21\u001b[0m \u001b[38;5;66;03m# Add sell signals\u001b[39;00m\n\u001b[0;32m     22\u001b[0m sell_indices \u001b[38;5;241m=\u001b[39m df\u001b[38;5;241m.\u001b[39mindex[df[\u001b[38;5;124m'\u001b[39m\u001b[38;5;124mTrigger\u001b[39m\u001b[38;5;124m'\u001b[39m] \u001b[38;5;241m==\u001b[39m \u001b[38;5;124m'\u001b[39m\u001b[38;5;124mS\u001b[39m\u001b[38;5;124m'\u001b[39m]\n",
      "\u001b[1;31mAttributeError\u001b[0m: 'NoneType' object has no attribute 'add_trace'"
     ]
    }
   ],
   "source": [
    "import sqlite3\n",
    "import pandas as pd\n",
    "from Backtesting import Backtest as bt, data_retriever_util as dr\n",
    "import plotly.graph_objects as go\n",
    "import plotly.io as pio\n",
    "from plotly.subplots import make_subplots\n",
    "from Backtesting import utils as btutil\n",
    "from Backtesting import Strategies as st\n",
    "\n",
    "# Connect to the source SQLite database\n",
    "source_db_path = \"C:\\\\Users\\\\Dhanika Dewan\\\\Documents\\\\GitHub\\\\StockBuddyGenAI\\\\src\\\\Data\\\\NSE_Yahoo_9_FEB_24.sqlite\"\n",
    "source_conn = sqlite3.connect(source_db_path)\n",
    "\n",
    "# Read the data into a pandas DataFrame\n",
    "query = \"SELECT * FROM NSE WHERE ticker = 'TATAMOTORS.NS'\"\n",
    "df = pd.read_sql(query, source_conn, parse_dates=['Date'])\n",
    "\n",
    "# Close the connection to the source database\n",
    "source_conn.close()\n",
    "    \n",
    "result= st.implement_candlestick_strategy(df,toPlot=True)\n",
    "\n",
    "print({\n",
    "        'Win Rate [%]': result['Win Rate [%]'],\n",
    "        'Net Profit/Loss [$]': result['Net Profit/Loss [$]'],\n",
    "        'Total Trades': result['Total Trades'],\n",
    "        'Winning Trades': result['Winning Trades']\n",
    "    })\n",
    "\n",
    "# Check if the result contains the plotlyJson key\n",
    "if \"plotlyJson\" in result:\n",
    "    # Convert JSON back to a Plotly figure\n",
    "    fig = pio.from_json(result[\"plotlyJson\"])\n",
    "    # Display the figure\n",
    "    fig.show()\n",
    "else:\n",
    "    print(\"Plotly JSON object not found in the result.\")\n",
    "\n"
   ]
  }
 ],
 "metadata": {
  "kernelspec": {
   "display_name": "Python 3",
   "language": "python",
   "name": "python3"
  },
  "language_info": {
   "codemirror_mode": {
    "name": "ipython",
    "version": 3
   },
   "file_extension": ".py",
   "mimetype": "text/x-python",
   "name": "python",
   "nbconvert_exporter": "python",
   "pygments_lexer": "ipython3",
   "version": "3.12.3"
  }
 },
 "nbformat": 4,
 "nbformat_minor": 2
}
